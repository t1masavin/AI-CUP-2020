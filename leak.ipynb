{
  "nbformat": 4,
  "nbformat_minor": 0,
  "metadata": {
    "colab": {
      "name": "leak.ipynb",
      "provenance": [],
      "authorship_tag": "ABX9TyN1mctglV/+ra/rMV7JtpOG",
      "include_colab_link": true
    },
    "kernelspec": {
      "name": "python3",
      "display_name": "Python 3"
    }
  },
  "cells": [
    {
      "cell_type": "markdown",
      "metadata": {
        "id": "view-in-github",
        "colab_type": "text"
      },
      "source": [
        "<a href=\"https://colab.research.google.com/github/t1masavin/my_resume/blob/master/leak.ipynb\" target=\"_parent\"><img src=\"https://colab.research.google.com/assets/colab-badge.svg\" alt=\"Open In Colab\"/></a>"
      ]
    },
    {
      "cell_type": "code",
      "metadata": {
        "id": "dMo5doR_YzNT"
      },
      "source": [
        "import time\n",
        "import imageio\n",
        "import json\n",
        "import PIL.Image,PIL.ImageDraw\n",
        "from PIL import Image\n",
        "import cv2\n",
        "import matplotlib.pyplot as plt\n",
        "import pandas as pd\n",
        "import numpy as np\n",
        "from google.colab import files, drive\n",
        "import json\n",
        "import pandas as pd\n",
        "import base64\n",
        "import io"
      ],
      "execution_count": null,
      "outputs": []
    },
    {
      "cell_type": "code",
      "metadata": {
        "id": "coCSpAs1Zt85",
        "outputId": "534dc5af-7039-4329-af45-8ada324841bf",
        "colab": {
          "base_uri": "https://localhost:8080/",
          "height": 34
        }
      },
      "source": [
        "drive.mount('/content/drive')"
      ],
      "execution_count": null,
      "outputs": [
        {
          "output_type": "stream",
          "text": [
            "Drive already mounted at /content/drive; to attempt to forcibly remount, call drive.mount(\"/content/drive\", force_remount=True).\n"
          ],
          "name": "stdout"
        }
      ]
    },
    {
      "cell_type": "code",
      "metadata": {
        "id": "mMf6gnYpaQ4l"
      },
      "source": [
        "dec_cls = {5 : 'staphylococcus_epidermidis', 4 : 'klebsiella_pneumoniae', \n",
        "          3 : 'staphylococcus_aureus' , 2 :  'moraxella_catarrhalis' , \n",
        "          1 : 'c_kefir', 0 : 'ent_cloacae' }\n",
        "CLASSES ={'staphylococcus_epidermidis' : np.array([0,0,0,0,0,1]), 'klebsiella_pneumoniae' : np.array([0,0,0,0,1,0]), \n",
        "          'staphylococcus_aureus' : np.array([0,0,0,1,0,0]), 'moraxella_catarrhalis' : np.array([0,0,1,0,0,0]), \n",
        "          'c_kefir' : np.array([0,1,0,0,0,0]), 'ent_cloacae' : np.array([1,0,0,0,0,0])}"
      ],
      "execution_count": null,
      "outputs": []
    },
    {
      "cell_type": "code",
      "metadata": {
        "id": "-0aWg7O-aeCu"
      },
      "source": [
        "sol_df = pd.read_csv('/content/drive/My Drive/Colab Notebooks/olymp/LAPLACIAN/bacteria (1).csv')"
      ],
      "execution_count": null,
      "outputs": []
    },
    {
      "cell_type": "code",
      "metadata": {
        "id": "TszaUuRaa9WA",
        "outputId": "024c272f-cb09-42fe-95b7-7c5ae5d48b8c",
        "colab": {
          "base_uri": "https://localhost:8080/",
          "height": 85
        }
      },
      "source": [
        "sol_df.iloc[106]"
      ],
      "execution_count": null,
      "outputs": [
        {
          "output_type": "execute_result",
          "data": {
            "text/plain": [
              "id                                                                         107\n",
              "class                                                              ent_cloacae\n",
              "base64 encoded PNG (mask)    iVBORw0KGgoAAAANSUhEUgAAAoAAAAIACAAAAAA3FoInAA...\n",
              "Name: 106, dtype: object"
            ]
          },
          "metadata": {
            "tags": []
          },
          "execution_count": 36
        }
      ]
    },
    {
      "cell_type": "code",
      "metadata": {
        "id": "NMppaxbjbBiv"
      },
      "source": [
        "for i in range(0,107):\n",
        "    print(i)\n",
        "    pth = '/content/drive/My Drive/Colab Notebooks/olymp/LAPLACIAN/leak/' + sol_df.iloc[i,1] + '/'+ str(i).zfill(4) + '.png'\n",
        "    img_data = base64.b64decode(sol_df.iloc[i,2].replace(\"\\n\",\"\").encode('ascii', errors='ignore'))\n",
        "    # print(img_data)\n",
        "    # with open(pth, \"wb\") as fh:\n",
        "    #     fh.write(img_data)\n",
        "    img_data = Image.open(io.BytesIO(img_data))\n",
        "    img_data.save(pth, 'png')\n"
      ],
      "execution_count": null,
      "outputs": []
    },
    {
      "cell_type": "code",
      "metadata": {
        "id": "z1934EaSnjuI"
      },
      "source": [
        "from google.colab.patches import cv2_imshow"
      ],
      "execution_count": null,
      "outputs": []
    },
    {
      "cell_type": "code",
      "metadata": {
        "id": "ck9g5uhsnu34"
      },
      "source": [
        "img_name = '/content/drive/My Drive/Colab Notebooks/olymp/LAPLACIAN/leak/moraxella_catarrhalis/0057.png'\n",
        "img = cv2.UMat(cv2.imread(img_name, cv2.IMREAD_COLOR))\n",
        "img = cv2.UMat.get(img)"
      ],
      "execution_count": null,
      "outputs": []
    },
    {
      "cell_type": "code",
      "metadata": {
        "id": "DTQ56DEuFaBQ"
      },
      "source": [
        "img_name_pr = '/content/drive/My Drive/Colab Notebooks/olymp/pred_masks/058.png'\n",
        "img_pr = cv2.UMat(cv2.imread(img_name_pr, cv2.IMREAD_COLOR))\n",
        "img_pr = cv2.UMat.get(img_pr)"
      ],
      "execution_count": null,
      "outputs": []
    },
    {
      "cell_type": "code",
      "metadata": {
        "id": "K3Za2G_Dn5Gp",
        "outputId": "8527dcf9-9925-44fc-d4ab-7bb69ace82ce",
        "colab": {
          "base_uri": "https://localhost:8080/",
          "height": 34
        }
      },
      "source": [
        "img.transpose(1,0,2).shape"
      ],
      "execution_count": null,
      "outputs": [
        {
          "output_type": "execute_result",
          "data": {
            "text/plain": [
              "(640, 512, 3)"
            ]
          },
          "metadata": {
            "tags": []
          },
          "execution_count": 60
        }
      ]
    },
    {
      "cell_type": "code",
      "metadata": {
        "id": "77HcDwkWEnv6",
        "outputId": "ac5d45fc-7e4b-4659-adf6-b23d51c2b786",
        "colab": {
          "base_uri": "https://localhost:8080/",
          "height": 529
        }
      },
      "source": [
        "cv2_imshow(img)"
      ],
      "execution_count": null,
      "outputs": [
        {
          "output_type": "display_data",
          "data": {
            "image/png": "[encoded data removed]",
            "text/plain": [
              "<PIL.Image.Image image mode=RGB size=640x512 at 0x7F90213BA940>"
            ]
          },
          "metadata": {
            "tags": []
          }
        }
      ]
    },
    {
      "cell_type": "code",
      "metadata": {
        "id": "O_ddgDKDn9tJ",
        "outputId": "aacce1c7-a69e-4df7-ccc1-ccf006edafd8",
        "colab": {
          "base_uri": "https://localhost:8080/",
          "height": 657
        }
      },
      "source": [
        "img_tr = img.transpose(1,0,2)\n",
        "cv2_imshow(img_tr)"
      ],
      "execution_count": null,
      "outputs": [
        {
          "output_type": "display_data",
          "data": {
            "image/png": "[encoded data removed]",
            "text/plain": [
              "<PIL.Image.Image image mode=RGB size=512x640 at 0x7F90213F5DA0>"
            ]
          },
          "metadata": {
            "tags": []
          }
        }
      ]
    },
    {
      "cell_type": "code",
      "metadata": {
        "id": "sjGu-KZdHwuZ",
        "outputId": "a2d8880f-9f38-4fb4-ca3b-30c69606f8c6",
        "colab": {
          "base_uri": "https://localhost:8080/",
          "height": 529
        }
      },
      "source": [
        "cv2_imshow(img_tr[:512,:,:])"
      ],
      "execution_count": null,
      "outputs": [
        {
          "output_type": "display_data",
          "data": {
            "image/png": "[encoded data removed]",
            "text/plain": [
              "<PIL.Image.Image image mode=RGB size=512x512 at 0x7F90213F5DA0>"
            ]
          },
          "metadata": {
            "tags": []
          }
        }
      ]
    },
    {
      "cell_type": "code",
      "metadata": {
        "id": "9vv3z858DMaw",
        "outputId": "9ad2fa0f-33aa-4d88-c357-c0a5f80e0742",
        "colab": {
          "base_uri": "https://localhost:8080/",
          "height": 529
        }
      },
      "source": [
        "cv2_imshow(img_pr[:,:512,:])"
      ],
      "execution_count": null,
      "outputs": [
        {
          "output_type": "display_data",
          "data": {
            "image/png": "[encoded data removed]",
            "text/plain": [
              "<PIL.Image.Image image mode=RGB size=512x512 at 0x7F90234C8F28>"
            ]
          },
          "metadata": {
            "tags": []
          }
        }
      ]
    },
    {
      "cell_type": "code",
      "metadata": {
        "id": "RYfzMi8yAuLJ"
      },
      "source": [
        "zeros = np.zeros_like(img_pr[:,:512,:])"
      ],
      "execution_count": null,
      "outputs": []
    },
    {
      "cell_type": "code",
      "metadata": {
        "id": "pFQbJAHUKTLy"
      },
      "source": [
        "zeros[:,:,0] = img_pr[:,:512,0]\n",
        "zeros[:,:,1] = img_tr[:512,:,0]"
      ],
      "execution_count": null,
      "outputs": []
    },
    {
      "cell_type": "code",
      "metadata": {
        "id": "26c-VNTDKkrs",
        "outputId": "5b5318ef-aa96-4d02-e525-37e7e6a84f1e",
        "colab": {
          "base_uri": "https://localhost:8080/",
          "height": 529
        }
      },
      "source": [
        "cv2_imshow(zeros)"
      ],
      "execution_count": null,
      "outputs": [
        {
          "output_type": "display_data",
          "data": {
            "image/png": "[encoded data removed]",
            "text/plain": [
              "<PIL.Image.Image image mode=RGB size=512x512 at 0x7F90208EE898>"
            ]
          },
          "metadata": {
            "tags": []
          }
        }
      ]
    },
    {
      "cell_type": "code",
      "metadata": {
        "id": "ZfblqIDxKodc"
      },
      "source": [
        ""
      ],
      "execution_count": null,
      "outputs": []
    }
  ]
}